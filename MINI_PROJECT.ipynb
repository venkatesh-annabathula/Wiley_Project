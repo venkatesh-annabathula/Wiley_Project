{
 "cells": [
  {
   "cell_type": "code",
   "execution_count": 1,
   "id": "54b2b0ae",
   "metadata": {},
   "outputs": [],
   "source": [
    "d={}\n",
    "td={}\n",
    "log_d={}"
   ]
  },
  {
   "cell_type": "code",
   "execution_count": 2,
   "id": "cedc62e4",
   "metadata": {},
   "outputs": [],
   "source": [
    "import json"
   ]
  },
  {
   "cell_type": "code",
   "execution_count": 3,
   "id": "e94c4e92",
   "metadata": {},
   "outputs": [],
   "source": [
    "task_msg=\"\"\"1.Create a Task➡️\n",
    "2.Marking Task as Complete ➡️\n",
    "3.Viewing Task List ➡️\n",
    "4.Editing Task Content ➡️\n",
    "5.Delete a Task ➡️\n",
    "6.Search by Hashtag ➡️\n",
    "7.Exit ➡️\\n\"\"\"\n"
   ]
  },
  {
   "cell_type": "code",
   "execution_count": 4,
   "id": "2beca91e",
   "metadata": {},
   "outputs": [],
   "source": [
    "list_msg = \"\"\"1.Create a List ➡️\n",
    "2.Viewing all Lists ➡️\n",
    "3.Display a List ➡️\n",
    "4.Delete a List ➡️\n",
    "5.Update list name ➡️\n",
    "6.Exit ➡️\\n\"\"\""
   ]
  },
  {
   "cell_type": "markdown",
   "id": "d82fdcf2",
   "metadata": {},
   "source": [
    "### List Functionalities "
   ]
  },
  {
   "cell_type": "code",
   "execution_count": 5,
   "id": "e88869d1",
   "metadata": {},
   "outputs": [],
   "source": [
    "def create_list(d): #Creating a dictionary of list items\n",
    "    List = input(\"Enter List Item Name ✨✨: \")\n",
    "    st='y'\n",
    "    if List not in d:\n",
    "        d[List] = {'items':list()}\n",
    "        while 'q' != st.lower():\n",
    "            st = input(\"Enter Item or Q to quit 🎊🎊: \")\n",
    "            if st.lower()!='q':\n",
    "                d[List]['items'].append(st)\n",
    "    \n",
    "    else:\n",
    "        if 'yes'==input(\"List already Exists !! Do you want to continue(yes/no) 😒😒: \").lower():\n",
    "            while 'q' != st.lower():\n",
    "                st = input(\"Enter Item or Q to quit 🎊🎊: \")\n",
    "                if st.lower()!='q':\n",
    "                    d[List]['items'].append(st)\n",
    "                    \n",
    "                    \n",
    "def view_all_list(d): #view all list items\n",
    "    print(\"🎀🎀List Name --- Items🎀🎀\")\n",
    "    for k,v in d.items():\n",
    "        print(f'{k} --- {list(v.values())}')\n",
    "\n",
    "        \n",
    "\n",
    "def display_list(d,l_name): #display a particular list\n",
    "    if l_name in d:\n",
    "        print(f'{l_name} -- {list(d[l_name].values())[0]}')\n",
    "    else:\n",
    "        print(\"List Item is not present in the Dictionary!!! 🤯🤯\")\n",
    "\n",
    "        \n",
    "def del_list_item(d,del_name): #deleting list item\n",
    "    if del_name in list(d.keys()):\n",
    "        del d[del_name]   \n",
    "    else:\n",
    "        print(\"List Item is not present in the Dictionary !!! 🤯🤯\")\n",
    "        \n",
    "def update_list_item_Name(d,up_name): #updating list item name\n",
    "    if up_name in d:\n",
    "        value = d[up_name]\n",
    "        del d[up_name]\n",
    "        new_name = input(\"Enter the new name to List : \")\n",
    "        d[new_name] = value\n",
    "    else:\n",
    "        print(\"Adding new item to List 😊😊\")\n",
    "        List = input(\"Enter the List Item Name ✨✨: \")\n",
    "        st='y'\n",
    "        d[List] = {'items':list()}\n",
    "        while 'q' != st.lower():\n",
    "            st = input(\"Enter Item or Q to quit 🎊🎊: \")\n",
    "            if st.lower()!='q':\n",
    "                d[List]['items'].append(st)"
   ]
  },
  {
   "cell_type": "markdown",
   "id": "0f5b7e2b",
   "metadata": {},
   "source": [
    "### Main List Function"
   ]
  },
  {
   "cell_type": "code",
   "execution_count": 17,
   "id": "329b494a",
   "metadata": {},
   "outputs": [],
   "source": [
    "def List_function(d):\n",
    "    print(\"You have selected List !! 😏😏😏\")\n",
    "    try:\n",
    "        while('yes'==input(\"Do you want to continue with list (yes/no) 😏: \")):\n",
    "            print(\"✅✅Select from following Menu✅✅\")\n",
    "            c=int(input(list_msg))\n",
    "            if c==1:\n",
    "                create_list(d)\n",
    "            elif c==2:\n",
    "                view_all_list(d)\n",
    "            elif c==3:\n",
    "                lname = input(\"Enter List to be displayed 😊😊 : \")\n",
    "                display_list(d,lname)\n",
    "            elif c==4:\n",
    "                del_name = input(\"Enter List to be deleted 😊😊 : \")\n",
    "                del_list_item(d,del_name)\n",
    "            elif c==5:\n",
    "                up_name = input(\"Enter the list name to modify 😊😊 : \")\n",
    "                update_list_item_Name(d,up_name)\n",
    "            elif c==6:\n",
    "                break\n",
    "    except:\n",
    "        print(\"Pls check Input values !! 😒😒\")"
   ]
  },
  {
   "cell_type": "markdown",
   "id": "522a0961",
   "metadata": {},
   "source": [
    "### Task Functionalities"
   ]
  },
  {
   "cell_type": "code",
   "execution_count": 7,
   "id": "a9bfecd6",
   "metadata": {},
   "outputs": [],
   "source": [
    "def create_task(td):\n",
    "    List = input(\"Enter Task 😊😊 : \")\n",
    "    td[List] = {'words': List.split(\" \"),'completed':False}"
   ]
  },
  {
   "cell_type": "code",
   "execution_count": 8,
   "id": "c006a0b7",
   "metadata": {},
   "outputs": [],
   "source": [
    "def task_completion(td,name):\n",
    "    td[name]['completed'] = True\n",
    "    l=td[name]['words']\n",
    "    log_d[(' '.join(l))] = True\n",
    "    del td[name]"
   ]
  },
  {
   "cell_type": "code",
   "execution_count": 9,
   "id": "44000f9c",
   "metadata": {},
   "outputs": [],
   "source": [
    "def task_list(td):\n",
    "    print('🎀🎀--List of Tasks--🎀🎀')\n",
    "    for i in td.keys():\n",
    "        print(f'--- {i}')"
   ]
  },
  {
   "cell_type": "code",
   "execution_count": 10,
   "id": "6892d46c",
   "metadata": {},
   "outputs": [],
   "source": [
    "def task_edit(td,etname):\n",
    "    del td[etname]\n",
    "    List = input(\"Enter Task 😊😊 : \")\n",
    "    td[List] = {'words': List.split(\" \"),'completed':False}"
   ]
  },
  {
   "cell_type": "code",
   "execution_count": 11,
   "id": "2595e1b5",
   "metadata": {},
   "outputs": [],
   "source": [
    "def del_task(td,n):\n",
    "    del td[n]"
   ]
  },
  {
   "cell_type": "code",
   "execution_count": 12,
   "id": "7069a273",
   "metadata": {},
   "outputs": [],
   "source": [
    "def task_search(td):\n",
    "    k=list(td.keys())\n",
    "    x=input(\"Enter #hastag word 😊😊 : \")\n",
    "    a=[i for i in k if x in i]\n",
    "    for j in a:\n",
    "        print(f'--- {j}')\n",
    "               "
   ]
  },
  {
   "cell_type": "markdown",
   "id": "5712e71a",
   "metadata": {},
   "source": [
    "### Main Task Function"
   ]
  },
  {
   "cell_type": "code",
   "execution_count": 16,
   "id": "73dc6614",
   "metadata": {},
   "outputs": [],
   "source": [
    "def Task_function(td):\n",
    "    print(\"You have selected Task !!! 😎😎😎\")\n",
    "    try:\n",
    "        while('yes'==input(\"Do you want to continue with task (yes/no) 😏: \").lower()):\n",
    "            print(\"✅✅Select from following Menu✅✅\")\n",
    "            c=int(input(task_msg))\n",
    "            if c==1:\n",
    "                create_task(td)\n",
    "            elif c==2:\n",
    "                tname = input(\"Enter the name of Completed Task 😎: \")\n",
    "                task_completion(td,tname)\n",
    "            elif c==3:\n",
    "                task_list(td)\n",
    "            elif c==4:\n",
    "                etname = input(\"Enter Task to be editted 😒: \")\n",
    "                task_edit(td,etname)\n",
    "            elif c==5:\n",
    "                n=input(\"Enter the task to be deleted !! 🤯: \")\n",
    "                del_task(td,n)\n",
    "            elif c==6:\n",
    "                task_search(td)\n",
    "            elif c==7:\n",
    "                break\n",
    "    except:\n",
    "        print(\"Pls check Input values !! 😒😒\")\n",
    "        "
   ]
  },
  {
   "cell_type": "markdown",
   "id": "23b8a030",
   "metadata": {},
   "source": [
    "### MAIN FUNCTION"
   ]
  },
  {
   "cell_type": "code",
   "execution_count": 14,
   "id": "68aa825f",
   "metadata": {},
   "outputs": [
    {
     "data": {
      "text/plain": [
       "'1.List Operations 😏\\n2.Task Operations 😎\\n3.Terminate 🤯\\n'"
      ]
     },
     "execution_count": 14,
     "metadata": {},
     "output_type": "execute_result"
    }
   ],
   "source": [
    "message=\"\"\"1.List Operations 😏\n",
    "2.Task Operations 😎\n",
    "3.Terminate 🤯\n",
    "\"\"\"\n",
    "message"
   ]
  },
  {
   "cell_type": "code",
   "execution_count": 15,
   "id": "0079cd00",
   "metadata": {},
   "outputs": [
    {
     "name": "stdout",
     "output_type": "stream",
     "text": [
      "1.List Operations 😏\n",
      "2.Task Operations 😎\n",
      "3.Terminate 🤯\n",
      "1\n",
      "You have selected List !! 😏😏😏\n",
      "Do you want to continue with list (yes/no) 😏: yes\n",
      "✅✅Select from following Menu✅✅\n",
      "1.Create a List ➡️\n",
      "2.Viewing all Lists ➡️\n",
      "3.Display a List ➡️\n",
      "4.Delete a List ➡️\n",
      "5.Update list name ➡️\n",
      "6.Exit ➡️\n",
      "2\n",
      "🎀🎀List Name --- Items🎀🎀\n",
      "people --- [['ratishree', 'sukrathi', 'lahari', 'manjunath', 'venkatesh']]\n",
      "superhero --- [['IronMan', 'SpiderMan', 'Thor', 'Black Widow', 'Hulk', 'Captain America', 'Black Panther']]\n",
      "wiley modules --- [['Python', 'SQL', 'Unix']]\n",
      "Groceries --- [['Milk', 'Butter', 'Bread', 'curd', 'ghee']]\n",
      "vegetables --- [['Tomato', 'spinach', 'ginger', 'garlic']]\n",
      "family --- [['father', 'mother', 'son', 'daughter']]\n",
      "Do you want to continue with list (yes/no) 😏: yes\n",
      "✅✅Select from following Menu✅✅\n",
      "1.Create a List ➡️\n",
      "2.Viewing all Lists ➡️\n",
      "3.Display a List ➡️\n",
      "4.Delete a List ➡️\n",
      "5.Update list name ➡️\n",
      "6.Exit ➡️\n",
      "3\n",
      "Enter List to be displayed 😊😊 : family\n",
      "family -- ['father', 'mother', 'son', 'daughter']\n",
      "Do you want to continue with list (yes/no) 😏: yes\n",
      "✅✅Select from following Menu✅✅\n",
      "1.Create a List ➡️\n",
      "2.Viewing all Lists ➡️\n",
      "3.Display a List ➡️\n",
      "4.Delete a List ➡️\n",
      "5.Update list name ➡️\n",
      "6.Exit ➡️\n",
      "5\n",
      "Enter the list name to modify 😊😊 : family\n",
      "Enter the new name to List : Family\n",
      "Do you want to continue with list (yes/no) 😏: yes\n",
      "✅✅Select from following Menu✅✅\n",
      "1.Create a List ➡️\n",
      "2.Viewing all Lists ➡️\n",
      "3.Display a List ➡️\n",
      "4.Delete a List ➡️\n",
      "5.Update list name ➡️\n",
      "6.Exit ➡️\n",
      "2\n",
      "🎀🎀List Name --- Items🎀🎀\n",
      "people --- [['ratishree', 'sukrathi', 'lahari', 'manjunath', 'venkatesh']]\n",
      "superhero --- [['IronMan', 'SpiderMan', 'Thor', 'Black Widow', 'Hulk', 'Captain America', 'Black Panther']]\n",
      "wiley modules --- [['Python', 'SQL', 'Unix']]\n",
      "Groceries --- [['Milk', 'Butter', 'Bread', 'curd', 'ghee']]\n",
      "vegetables --- [['Tomato', 'spinach', 'ginger', 'garlic']]\n",
      "Family --- [['father', 'mother', 'son', 'daughter']]\n",
      "Do you want to continue with list (yes/no) 😏: yes\n",
      "✅✅Select from following Menu✅✅\n",
      "1.Create a List ➡️\n",
      "2.Viewing all Lists ➡️\n",
      "3.Display a List ➡️\n",
      "4.Delete a List ➡️\n",
      "5.Update list name ➡️\n",
      "6.Exit ➡️\n",
      "4\n",
      "Enter List to be deleted 😊😊 : Family\n",
      "Do you want to continue with list (yes/no) 😏: yes\n",
      "✅✅Select from following Menu✅✅\n",
      "1.Create a List ➡️\n",
      "2.Viewing all Lists ➡️\n",
      "3.Display a List ➡️\n",
      "4.Delete a List ➡️\n",
      "5.Update list name ➡️\n",
      "6.Exit ➡️\n",
      "2\n",
      "🎀🎀List Name --- Items🎀🎀\n",
      "people --- [['ratishree', 'sukrathi', 'lahari', 'manjunath', 'venkatesh']]\n",
      "superhero --- [['IronMan', 'SpiderMan', 'Thor', 'Black Widow', 'Hulk', 'Captain America', 'Black Panther']]\n",
      "wiley modules --- [['Python', 'SQL', 'Unix']]\n",
      "Groceries --- [['Milk', 'Butter', 'Bread', 'curd', 'ghee']]\n",
      "vegetables --- [['Tomato', 'spinach', 'ginger', 'garlic']]\n",
      "Do you want to continue with list (yes/no) 😏: yes\n",
      "✅✅Select from following Menu✅✅\n",
      "1.Create a List ➡️\n",
      "2.Viewing all Lists ➡️\n",
      "3.Display a List ➡️\n",
      "4.Delete a List ➡️\n",
      "5.Update list name ➡️\n",
      "6.Exit ➡️\n",
      "6\n",
      "1.List Operations 😏\n",
      "2.Task Operations 😎\n",
      "3.Terminate 🤯\n",
      "2\n",
      "You have selected Task !!! 😎😎😎\n",
      "Do you want to continue with task (yes/no) 😏: yes\n",
      "✅✅Select from following Menu✅✅\n",
      "1.Create a Task➡️\n",
      "2.Marking Task as Complete ➡️\n",
      "3.Viewing Task List ➡️\n",
      "4.Editing Task Content ➡️\n",
      "5.Delete a Task ➡️\n",
      "6.Search by Hashtag ➡️\n",
      "7.Exit ➡️\n",
      "3\n",
      "🎀🎀--List of Tasks--🎀🎀\n",
      "--- Completing Assingment #wiley\n",
      "--- study SQL and Python #sql #python #wiley\n",
      "--- wiley\n",
      "Do you want to continue with task (yes/no) 😏: yes\n",
      "✅✅Select from following Menu✅✅\n",
      "1.Create a Task➡️\n",
      "2.Marking Task as Complete ➡️\n",
      "3.Viewing Task List ➡️\n",
      "4.Editing Task Content ➡️\n",
      "5.Delete a Task ➡️\n",
      "6.Search by Hashtag ➡️\n",
      "7.Exit ➡️\n",
      "1\n",
      "Enter Task 😊😊 : Aditya #college\n",
      "Do you want to continue with task (yes/no) 😏: yes\n",
      "✅✅Select from following Menu✅✅\n",
      "1.Create a Task➡️\n",
      "2.Marking Task as Complete ➡️\n",
      "3.Viewing Task List ➡️\n",
      "4.Editing Task Content ➡️\n",
      "5.Delete a Task ➡️\n",
      "6.Search by Hashtag ➡️\n",
      "7.Exit ➡️\n",
      "3\n",
      "🎀🎀--List of Tasks--🎀🎀\n",
      "--- Completing Assingment #wiley\n",
      "--- study SQL and Python #sql #python #wiley\n",
      "--- wiley\n",
      "--- Aditya #college\n",
      "Do you want to continue with task (yes/no) 😏: yes\n",
      "✅✅Select from following Menu✅✅\n",
      "1.Create a Task➡️\n",
      "2.Marking Task as Complete ➡️\n",
      "3.Viewing Task List ➡️\n",
      "4.Editing Task Content ➡️\n",
      "5.Delete a Task ➡️\n",
      "6.Search by Hashtag ➡️\n",
      "7.Exit ➡️\n",
      "2\n",
      "Enter the name of Completed Task 😎: wil\n",
      "Pls check Input values !! 😒😒\n",
      "1.List Operations 😏\n",
      "2.Task Operations 😎\n",
      "3.Terminate 🤯\n",
      "2\n",
      "You have selected Task !!! 😎😎😎\n",
      "Do you want to continue with task (yes/no) 😏: yes\n",
      "✅✅Select from following Menu✅✅\n",
      "1.Create a Task➡️\n",
      "2.Marking Task as Complete ➡️\n",
      "3.Viewing Task List ➡️\n",
      "4.Editing Task Content ➡️\n",
      "5.Delete a Task ➡️\n",
      "6.Search by Hashtag ➡️\n",
      "7.Exit ➡️\n",
      "2\n",
      "Enter the name of Completed Task 😎: wiley\n",
      "Do you want to continue with task (yes/no) 😏: yes\n",
      "✅✅Select from following Menu✅✅\n",
      "1.Create a Task➡️\n",
      "2.Marking Task as Complete ➡️\n",
      "3.Viewing Task List ➡️\n",
      "4.Editing Task Content ➡️\n",
      "5.Delete a Task ➡️\n",
      "6.Search by Hashtag ➡️\n",
      "7.Exit ➡️\n",
      "3\n",
      "🎀🎀--List of Tasks--🎀🎀\n",
      "--- Completing Assingment #wiley\n",
      "--- study SQL and Python #sql #python #wiley\n",
      "--- Aditya #college\n",
      "Do you want to continue with task (yes/no) 😏: yes\n",
      "✅✅Select from following Menu✅✅\n",
      "1.Create a Task➡️\n",
      "2.Marking Task as Complete ➡️\n",
      "3.Viewing Task List ➡️\n",
      "4.Editing Task Content ➡️\n",
      "5.Delete a Task ➡️\n",
      "6.Search by Hashtag ➡️\n",
      "7.Exit ➡️\n",
      "4\n",
      "Enter Task to be editted 😒: Aditya #college\n",
      "Enter Task 😊😊 : Aditya Engineering College #college\n",
      "Do you want to continue with task (yes/no) 😏: yes\n",
      "✅✅Select from following Menu✅✅\n",
      "1.Create a Task➡️\n",
      "2.Marking Task as Complete ➡️\n",
      "3.Viewing Task List ➡️\n",
      "4.Editing Task Content ➡️\n",
      "5.Delete a Task ➡️\n",
      "6.Search by Hashtag ➡️\n",
      "7.Exit ➡️\n",
      "3\n",
      "🎀🎀--List of Tasks--🎀🎀\n",
      "--- Completing Assingment #wiley\n",
      "--- study SQL and Python #sql #python #wiley\n",
      "--- Aditya Engineering College #college\n",
      "Do you want to continue with task (yes/no) 😏: yes\n",
      "✅✅Select from following Menu✅✅\n",
      "1.Create a Task➡️\n",
      "2.Marking Task as Complete ➡️\n",
      "3.Viewing Task List ➡️\n",
      "4.Editing Task Content ➡️\n",
      "5.Delete a Task ➡️\n",
      "6.Search by Hashtag ➡️\n",
      "7.Exit ➡️\n",
      "6\n",
      "Enter #hastag word 😊😊 : #wiley\n",
      "--- Completing Assingment #wiley\n",
      "--- study SQL and Python #sql #python #wiley\n",
      "Do you want to continue with task (yes/no) 😏: yes\n",
      "✅✅Select from following Menu✅✅\n",
      "1.Create a Task➡️\n",
      "2.Marking Task as Complete ➡️\n",
      "3.Viewing Task List ➡️\n",
      "4.Editing Task Content ➡️\n",
      "5.Delete a Task ➡️\n",
      "6.Search by Hashtag ➡️\n",
      "7.Exit ➡️\n",
      "5\n",
      "Enter the task to be deleted !! 🤯: Aditya Engineering College #college\n",
      "Do you want to continue with task (yes/no) 😏: yes\n",
      "✅✅Select from following Menu✅✅\n",
      "1.Create a Task➡️\n",
      "2.Marking Task as Complete ➡️\n",
      "3.Viewing Task List ➡️\n",
      "4.Editing Task Content ➡️\n",
      "5.Delete a Task ➡️\n",
      "6.Search by Hashtag ➡️\n",
      "7.Exit ➡️\n",
      "3\n",
      "🎀🎀--List of Tasks--🎀🎀\n",
      "--- Completing Assingment #wiley\n",
      "--- study SQL and Python #sql #python #wiley\n",
      "Do you want to continue with task (yes/no) 😏: no\n",
      "Enter a valid Inputs(Yes/No)\n",
      "1.List Operations 😏\n",
      "2.Task Operations 😎\n",
      "3.Terminate 🤯\n",
      "3\n",
      "Program Terminated !!🤯🤯🤯\n"
     ]
    }
   ],
   "source": [
    "def Project(d,td):\n",
    "    choice=0\n",
    "    td = json.load(open(\"/users/venkatesh/desktop/Task.txt\"))\n",
    "    d = json.load(open(\"/users/venkatesh/desktop/List.txt\"))\n",
    "    try:\n",
    "        while(choice!=3):\n",
    "            choice=int(input(message))\n",
    "            if choice==1:\n",
    "                List_function(d)\n",
    "            elif choice==2:\n",
    "                Task_function(td)\n",
    "            elif choice == 3:\n",
    "                break\n",
    "            else:\n",
    "                print('Enter valid Choice from above list 😒😒')\n",
    "        print(\"Program Terminated !!🤯🤯🤯\")\n",
    "    except :\n",
    "        print(\"Pls Enter valid value for choice(integer)!!😒😒\")\n",
    "    json.dump(td, open(\"/users/venkatesh/desktop/Task.txt\",'w'))\n",
    "    json.dump(d, open(\"/users/venkatesh/desktop/List.txt\",'w'))\n",
    "Project(d,td)"
   ]
  },
  {
   "cell_type": "code",
   "execution_count": null,
   "id": "f874b7be",
   "metadata": {},
   "outputs": [],
   "source": []
  },
  {
   "cell_type": "code",
   "execution_count": 45,
   "id": "bd283152",
   "metadata": {},
   "outputs": [
    {
     "name": "stdout",
     "output_type": "stream",
     "text": [
      "1.List Operations 😏\n",
      "2.Task Operations 😎\n",
      "3.Terminate 🤯\n",
      "1\n",
      "You have selected List !! 😏😏😏\n",
      "Do you want to continue with list (yes/no) : yes\n",
      "Select from following Menu\n",
      "1.Create a List\n",
      "2.Viewing all Lists\n",
      "3.Display a List\n",
      "4.Delete a List\n",
      "5.update list name\n",
      "6.Exit\n",
      "6\n",
      "Do you want to continue with list (yes/no) : no\n",
      "1.List Operations 😏\n",
      "2.Task Operations 😎\n",
      "3.Terminate 🤯\n",
      "3\n"
     ]
    }
   ],
   "source": [
    "def Project(d,td):\n",
    "    choice=0\n",
    "    td = json.load(open(\"/users/venkatesh/desktop/Task.txt\"))\n",
    "    d = json.load(open(\"/users/venkatesh/desktop/List.txt\"))\n",
    "    while(choice!=3):\n",
    "        choice=int(input(message))\n",
    "        if choice==1:\n",
    "            List_function(d)\n",
    "        elif choice==2:\n",
    "            Task_function(td)\n",
    "        elif choice == 3:\n",
    "            break\n",
    "    json.dump(td, open(\"/users/venkatesh/desktop/Task.txt\",'w'))\n",
    "    json.dump(d, open(\"/users/venkatesh/desktop/List.txt\",'w'))\n",
    "Project(d,td)"
   ]
  },
  {
   "cell_type": "code",
   "execution_count": null,
   "id": "88007d79",
   "metadata": {},
   "outputs": [],
   "source": []
  },
  {
   "cell_type": "code",
   "execution_count": null,
   "id": "ea687b95",
   "metadata": {},
   "outputs": [],
   "source": []
  },
  {
   "cell_type": "code",
   "execution_count": null,
   "id": "b1892531",
   "metadata": {},
   "outputs": [],
   "source": []
  },
  {
   "cell_type": "code",
   "execution_count": null,
   "id": "aa60e314",
   "metadata": {},
   "outputs": [],
   "source": []
  },
  {
   "cell_type": "code",
   "execution_count": null,
   "id": "6e63d9a3",
   "metadata": {},
   "outputs": [],
   "source": []
  },
  {
   "cell_type": "code",
   "execution_count": null,
   "id": "74eb5575",
   "metadata": {},
   "outputs": [],
   "source": []
  },
  {
   "cell_type": "code",
   "execution_count": null,
   "id": "e896cf48",
   "metadata": {},
   "outputs": [],
   "source": []
  },
  {
   "cell_type": "code",
   "execution_count": 29,
   "id": "cb0b11ab",
   "metadata": {},
   "outputs": [
    {
     "name": "stdout",
     "output_type": "stream",
     "text": [
      "Enter List Name : cartoons\n",
      "Enter Item or Q to quit : doremon\n",
      "Enter Item or Q to quit : shinchan\n",
      "Enter Item or Q to quit : q\n"
     ]
    }
   ],
   "source": [
    "d2={'cartoons' : {'items' : ['tom','jerry'], 'completed':False}}\n",
    "create_list(d2)"
   ]
  },
  {
   "cell_type": "code",
   "execution_count": 30,
   "id": "affdb509",
   "metadata": {},
   "outputs": [
    {
     "data": {
      "text/plain": [
       "{'cartoons': {'items': ['tom', 'jerry', 'doremon', 'shinchan'],\n",
       "  'completed': False}}"
      ]
     },
     "execution_count": 30,
     "metadata": {},
     "output_type": "execute_result"
    }
   ],
   "source": [
    "d2"
   ]
  },
  {
   "cell_type": "code",
   "execution_count": null,
   "id": "870f4141",
   "metadata": {},
   "outputs": [],
   "source": []
  },
  {
   "cell_type": "code",
   "execution_count": null,
   "id": "ad07a7db",
   "metadata": {},
   "outputs": [],
   "source": []
  },
  {
   "cell_type": "code",
   "execution_count": null,
   "id": "6fb4c146",
   "metadata": {},
   "outputs": [],
   "source": []
  },
  {
   "cell_type": "code",
   "execution_count": null,
   "id": "3a08a561",
   "metadata": {},
   "outputs": [],
   "source": []
  },
  {
   "cell_type": "code",
   "execution_count": null,
   "id": "38445ad4",
   "metadata": {},
   "outputs": [],
   "source": []
  },
  {
   "cell_type": "code",
   "execution_count": null,
   "id": "ee2a94cd",
   "metadata": {},
   "outputs": [],
   "source": []
  },
  {
   "cell_type": "code",
   "execution_count": null,
   "id": "d03cfe4f",
   "metadata": {},
   "outputs": [],
   "source": []
  },
  {
   "cell_type": "code",
   "execution_count": null,
   "id": "e741bfd8",
   "metadata": {},
   "outputs": [],
   "source": []
  },
  {
   "cell_type": "code",
   "execution_count": null,
   "id": "0773f500",
   "metadata": {},
   "outputs": [],
   "source": []
  },
  {
   "cell_type": "code",
   "execution_count": null,
   "id": "82d0222b",
   "metadata": {},
   "outputs": [],
   "source": []
  },
  {
   "cell_type": "code",
   "execution_count": null,
   "id": "d0944376",
   "metadata": {},
   "outputs": [],
   "source": []
  },
  {
   "cell_type": "code",
   "execution_count": null,
   "id": "284e5f03",
   "metadata": {},
   "outputs": [],
   "source": []
  },
  {
   "cell_type": "code",
   "execution_count": null,
   "id": "3461e33b",
   "metadata": {},
   "outputs": [],
   "source": []
  },
  {
   "cell_type": "code",
   "execution_count": null,
   "id": "4bef5951",
   "metadata": {},
   "outputs": [],
   "source": []
  },
  {
   "cell_type": "code",
   "execution_count": null,
   "id": "97d7b82c",
   "metadata": {},
   "outputs": [],
   "source": []
  },
  {
   "cell_type": "code",
   "execution_count": null,
   "id": "615881ba",
   "metadata": {},
   "outputs": [],
   "source": []
  },
  {
   "cell_type": "code",
   "execution_count": 83,
   "id": "e7c2a480",
   "metadata": {},
   "outputs": [
    {
     "data": {
      "text/plain": [
       "dict_keys([])"
      ]
     },
     "execution_count": 83,
     "metadata": {},
     "output_type": "execute_result"
    }
   ],
   "source": [
    "td.keys()"
   ]
  },
  {
   "cell_type": "code",
   "execution_count": 84,
   "id": "287026c5",
   "metadata": {},
   "outputs": [
    {
     "data": {
      "text/plain": [
       "{}"
      ]
     },
     "execution_count": 84,
     "metadata": {},
     "output_type": "execute_result"
    }
   ],
   "source": [
    "td"
   ]
  },
  {
   "cell_type": "code",
   "execution_count": 85,
   "id": "ac34f6b2",
   "metadata": {},
   "outputs": [
    {
     "data": {
      "text/plain": [
       "{}"
      ]
     },
     "execution_count": 85,
     "metadata": {},
     "output_type": "execute_result"
    }
   ],
   "source": [
    "d"
   ]
  },
  {
   "cell_type": "code",
   "execution_count": 23,
   "id": "e768d048",
   "metadata": {},
   "outputs": [],
   "source": [
    "st1=str(d)\n",
    "st2=str(td)\n",
    "s=st1+st2"
   ]
  },
  {
   "cell_type": "code",
   "execution_count": 24,
   "id": "05465be0",
   "metadata": {},
   "outputs": [
    {
     "data": {
      "text/plain": [
       "[\"{'pokemon': {'items': ['pikachu richu'], 'completed': False}}{'wake up at 6am': {'words': ['wake', 'up', 'at', '6am'], 'completed': False}}\"]"
      ]
     },
     "execution_count": 24,
     "metadata": {},
     "output_type": "execute_result"
    }
   ],
   "source": [
    "f=open(\"/users/venkatesh/desktop/tasks.txt\",'w')\n",
    "f.write(s)\n",
    "f.close()\n",
    "f1=open(\"/users/venkatesh/desktop/tasks.txt\",'r')\n",
    "res=f1.readlines()\n",
    "res"
   ]
  },
  {
   "cell_type": "code",
   "execution_count": null,
   "id": "7b43aeda",
   "metadata": {},
   "outputs": [],
   "source": []
  },
  {
   "cell_type": "code",
   "execution_count": null,
   "id": "62402e21",
   "metadata": {},
   "outputs": [],
   "source": []
  },
  {
   "cell_type": "code",
   "execution_count": null,
   "id": "8dd14b4e",
   "metadata": {},
   "outputs": [],
   "source": []
  },
  {
   "cell_type": "code",
   "execution_count": null,
   "id": "8bd9981c",
   "metadata": {},
   "outputs": [],
   "source": []
  },
  {
   "cell_type": "code",
   "execution_count": null,
   "id": "f7a44b0d",
   "metadata": {},
   "outputs": [],
   "source": []
  },
  {
   "cell_type": "code",
   "execution_count": null,
   "id": "57d8d02f",
   "metadata": {},
   "outputs": [],
   "source": []
  },
  {
   "cell_type": "code",
   "execution_count": null,
   "id": "fb7a38e4",
   "metadata": {},
   "outputs": [],
   "source": []
  },
  {
   "cell_type": "code",
   "execution_count": null,
   "id": "1c00726f",
   "metadata": {},
   "outputs": [],
   "source": []
  },
  {
   "cell_type": "code",
   "execution_count": null,
   "id": "b41d0614",
   "metadata": {},
   "outputs": [],
   "source": []
  },
  {
   "cell_type": "code",
   "execution_count": null,
   "id": "6bb24962",
   "metadata": {},
   "outputs": [],
   "source": []
  },
  {
   "cell_type": "code",
   "execution_count": null,
   "id": "b2a47883",
   "metadata": {},
   "outputs": [],
   "source": []
  }
 ],
 "metadata": {
  "kernelspec": {
   "display_name": "Python 3 (ipykernel)",
   "language": "python",
   "name": "python3"
  },
  "language_info": {
   "codemirror_mode": {
    "name": "ipython",
    "version": 3
   },
   "file_extension": ".py",
   "mimetype": "text/x-python",
   "name": "python",
   "nbconvert_exporter": "python",
   "pygments_lexer": "ipython3",
   "version": "3.9.7"
  }
 },
 "nbformat": 4,
 "nbformat_minor": 5
}
